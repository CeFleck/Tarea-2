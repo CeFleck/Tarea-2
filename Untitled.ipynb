{
 "cells": [
  {
   "cell_type": "markdown",
   "metadata": {},
   "source": [
    "# **GIT y control de versiones**\n",
    "##### Carlos Fleck   14009335\n",
    "\n",
    "Para iniciar con el contenido de Git es necesario mencionar lo que es un sistema de control de versiones. Estas son herramientas que  facilitan el manejo de versiones en proyectos trabajados en equipo. Esto quiere decir que registra los cambios hechos por los miembros del equipo. Mantiene los datos de quien modifico, la fecha de la modificacion y los registros de los ficheros completos. Es una herramienta demasiado util para el control de versiones. Ayuda a resolver conflictos cuando las personas trabajan en el mismo codigo al mismo tiempo. Existen distintas herramientas para el control de versiones, sin embargo **GIT** se ha combertido en el estandar de estas herramientas\n",
    "\n",
    "### **Funcionamiento de GIT**\n",
    "\n",
    "En muchas herramientas los ficheros funcionan con arboles de archivos donde el fichero \"root\" es la base donde tenemos todos nuestros proyectos. Funciona como el localizar en windows los archivos a travez de carpetas, sin embargo, GIT funciona con algo mas que un modelo linear, funciona con un modelo  grafico aciclico dirigido. La forma en la que git funciona es creando una version al anadir un archivo y si se agregan mas se crean mas versiones pero a diferencia de los modelos lineares este permite bifurcar el historial de cambios y hacer que se base en una version distinta. Esto lo hace para que en caso de un error se pueda regresar a una version base y los demas puedan utilizar las nuevas versiones de manera paralela.  Con esto  se puede trabajar con ciclos. En cada uno de los segmentos se pueden agregar anotaciones de metadatos de quien y que hicieron. \n",
    "\n",
    "Existen varios tipos de datos que son **blob** que son arreglos de bytes, los **trww que funciona como mapas de string, trees y blobs. Por ultimo tenemos  el tipo **commit** con una estructura que mantiene la informacion de autor mensajes y snapshots que son trees en vez de  strigs como los otros dos. Existe un tipo especial llamado **object**  que puede obtener blob trees o commits. Entonces se puede guardar un objeto con la funcion de hash. Este basicamente lo que hace es que toma mucha informacion y lo reduce en algo corto. Y es la forma que puedes identificar los ids son hex que son con strings muy largos, se utilizan las referencias  como **references = String>**, son conocidos en programacion como punteros en donde los nombres de referencia nos llevan al registro buscado. \n",
    "\n",
    "### **Ejemplificaciones de git**.\n",
    "Creamos un repositorio y revisamos los archivos que hemos cambiado recientemente como esta vacia no hay nada que anadir al snap.\n",
    "\n",
    "<img src=\"imagen.png\">\n",
    "\n",
    "Despues de agregar un archivo en blanco llamado ejemplo como se muestra en la siguiente imagen se usan los comandos de add y de commit para tomar una primera version donde **bda9696** es el hash funtion que apunta a esta.\n",
    "\n",
    "<img src=\"imagen2.png\">\n",
    "\n",
    "Luego de crear este archivo cambiamos unas cosas dentro de la carpeta agregando un \"Ejemplo2.txt\" y anadiendo un texto al archivo \"Ejemplo.txt\" esto simulara que dos personas operan la misma carpeta pero solamente se anade una operacion a cada una de las modificaciones \n",
    "\n",
    "<img src=\"imagen3.png\">\n",
    "\n",
    "Ya que tenemos 3 versiones distintas donde la primera solamente tiene el ejemplo 1 llamado vacio la segunda tiene un Ejemplo2 y Ejemplo y la terecera hace referencia a la modificacion del primero solamente anadiendo texto. Si queremos regresar a la primera version sin afectar las modificaciones del \"Ejemplo2\" se puede hacer con lo siguiente primero buscamos nuestras versiones y luego seleccionamos la que queremos regresar con el comando mostrado.\n",
    "\n",
    "<img src=\"imagen4.png\">\n",
    "\n",
    "### **Concluciones**\n",
    "Git es una herramienta que permite controlar las versiones y hacer back up de las modificaciones que hacemos no solo a un archivo sino que de todo el fichero en el que se trabaja. Si se trabaja con un companero es importante tener en cuenta que el mismo necesita mantener su control de versiones con las ramas distintas que se manejaran para que en caso que ocurra algun error en el proyecto se tenga control de todos los archivos por igual. Por lo que he notado es necesario mantener control cada vez que se crea un archivo se anaden cosas o se eliminan para no perder el avance total del proyecto."
   ]
  }
 ],
 "metadata": {
  "kernelspec": {
   "display_name": "",
   "name": ""
  },
  "language_info": {
   "name": ""
  }
 },
 "nbformat": 4,
 "nbformat_minor": 4
}
